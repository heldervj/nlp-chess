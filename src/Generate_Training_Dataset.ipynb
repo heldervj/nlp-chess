{
  "nbformat": 4,
  "nbformat_minor": 0,
  "metadata": {
    "colab": {
      "name": "Generate Training Dataset.ipynb",
      "provenance": [],
      "collapsed_sections": [],
      "toc_visible": true,
      "machine_shape": "hm"
    },
    "kernelspec": {
      "name": "python3",
      "display_name": "Python 3"
    },
    "language_info": {
      "name": "python"
    },
    "accelerator": "GPU"
  },
  "cells": [
    {
      "cell_type": "markdown",
      "metadata": {
        "id": "liyAwYOxaCvR"
      },
      "source": [
        "# Leitura e filtro das bases"
      ]
    },
    {
      "cell_type": "code",
      "source": [
        "PATH_TO_LOAD_FILES = r'/content/drive/MyDrive/chess_dataset/csv_files' # use your path\n",
        "PATH_TO_SAVE_FILES = r'/content/drive/MyDrive/chess_dataset/chess_files' # use your path"
      ],
      "metadata": {
        "id": "bIIsTMN2R2O7"
      },
      "execution_count": null,
      "outputs": []
    },
    {
      "cell_type": "code",
      "metadata": {
        "colab": {
          "base_uri": "https://localhost:8080/"
        },
        "id": "h9W49R4eZ9vS",
        "outputId": "8ed9221f-4361-45ad-bd96-82e8717d0a13"
      },
      "source": [
        "from google.colab import drive\n",
        "drive.mount('/content/drive')"
      ],
      "execution_count": null,
      "outputs": [
        {
          "output_type": "stream",
          "name": "stdout",
          "text": [
            "Drive already mounted at /content/drive; to attempt to forcibly remount, call drive.mount(\"/content/drive\", force_remount=True).\n"
          ]
        }
      ]
    },
    {
      "cell_type": "code",
      "metadata": {
        "id": "ji3MJX3taN-1"
      },
      "source": [
        "import pandas as pd"
      ],
      "execution_count": null,
      "outputs": []
    },
    {
      "cell_type": "code",
      "metadata": {
        "id": "JZRL1Xbyw-PV"
      },
      "source": [
        "import glob\n",
        "\n",
        "path = PATH_FILES \n",
        "all_files_info = glob.glob(path + \"/info_*.csv\")\n",
        "all_files_pgn = glob.glob(path + \"/pgn_*.csv\")"
      ],
      "execution_count": null,
      "outputs": []
    },
    {
      "cell_type": "code",
      "metadata": {
        "colab": {
          "base_uri": "https://localhost:8080/",
          "height": 224
        },
        "id": "QMrGpBK8w87m",
        "outputId": "19923d14-9b4d-4541-fd1c-121b6a0695bc"
      },
      "source": [
        "df_info = pd.concat((pd.read_csv(f) for f in all_files_info))\n",
        "\n",
        "print(df_info.shape)\n",
        "\n",
        "df_info.head()"
      ],
      "execution_count": null,
      "outputs": [
        {
          "output_type": "stream",
          "name": "stdout",
          "text": [
            "(3660164, 6)\n"
          ]
        },
        {
          "output_type": "execute_result",
          "data": {
            "text/html": [
              "<div>\n",
              "<style scoped>\n",
              "    .dataframe tbody tr th:only-of-type {\n",
              "        vertical-align: middle;\n",
              "    }\n",
              "\n",
              "    .dataframe tbody tr th {\n",
              "        vertical-align: top;\n",
              "    }\n",
              "\n",
              "    .dataframe thead th {\n",
              "        text-align: right;\n",
              "    }\n",
              "</style>\n",
              "<table border=\"1\" class=\"dataframe\">\n",
              "  <thead>\n",
              "    <tr style=\"text-align: right;\">\n",
              "      <th></th>\n",
              "      <th>id_partida</th>\n",
              "      <th>WhiteElo</th>\n",
              "      <th>BlackElo</th>\n",
              "      <th>NbMoves</th>\n",
              "      <th>EventType</th>\n",
              "      <th>Result</th>\n",
              "    </tr>\n",
              "  </thead>\n",
              "  <tbody>\n",
              "    <tr>\n",
              "      <th>0</th>\n",
              "      <td>666000</td>\n",
              "      <td>2380.0</td>\n",
              "      <td>NaN</td>\n",
              "      <td>81</td>\n",
              "      <td>tourn</td>\n",
              "      <td>1/2-1/2</td>\n",
              "    </tr>\n",
              "    <tr>\n",
              "      <th>1</th>\n",
              "      <td>666001</td>\n",
              "      <td>2350.0</td>\n",
              "      <td>NaN</td>\n",
              "      <td>80</td>\n",
              "      <td>tourn</td>\n",
              "      <td>1-0</td>\n",
              "    </tr>\n",
              "    <tr>\n",
              "      <th>2</th>\n",
              "      <td>666002</td>\n",
              "      <td>2355.0</td>\n",
              "      <td>NaN</td>\n",
              "      <td>89</td>\n",
              "      <td>tourn</td>\n",
              "      <td>1/2-1/2</td>\n",
              "    </tr>\n",
              "    <tr>\n",
              "      <th>3</th>\n",
              "      <td>666003</td>\n",
              "      <td>NaN</td>\n",
              "      <td>2365.0</td>\n",
              "      <td>30</td>\n",
              "      <td>tourn</td>\n",
              "      <td>1/2-1/2</td>\n",
              "    </tr>\n",
              "    <tr>\n",
              "      <th>4</th>\n",
              "      <td>666004</td>\n",
              "      <td>NaN</td>\n",
              "      <td>2370.0</td>\n",
              "      <td>72</td>\n",
              "      <td>tourn</td>\n",
              "      <td>1-0</td>\n",
              "    </tr>\n",
              "  </tbody>\n",
              "</table>\n",
              "</div>"
            ],
            "text/plain": [
              "   id_partida  WhiteElo  BlackElo  NbMoves EventType   Result\n",
              "0      666000    2380.0       NaN       81     tourn  1/2-1/2\n",
              "1      666001    2350.0       NaN       80     tourn      1-0\n",
              "2      666002    2355.0       NaN       89     tourn  1/2-1/2\n",
              "3      666003       NaN    2365.0       30     tourn  1/2-1/2\n",
              "4      666004       NaN    2370.0       72     tourn      1-0"
            ]
          },
          "metadata": {},
          "execution_count": 4
        }
      ]
    },
    {
      "cell_type": "code",
      "metadata": {
        "colab": {
          "base_uri": "https://localhost:8080/",
          "height": 224
        },
        "id": "19zZql6gyXsk",
        "outputId": "1a691780-d0ef-4516-8d4a-33e24eb06a69"
      },
      "source": [
        "df_pgn = pd.concat((pd.read_csv(f) for f in all_files_pgn))\n",
        "\n",
        "print(df_pgn.shape)\n",
        "\n",
        "df_pgn.head()"
      ],
      "execution_count": null,
      "outputs": [
        {
          "output_type": "stream",
          "name": "stdout",
          "text": [
            "(3660164, 2)\n"
          ]
        },
        {
          "output_type": "execute_result",
          "data": {
            "text/html": [
              "<div>\n",
              "<style scoped>\n",
              "    .dataframe tbody tr th:only-of-type {\n",
              "        vertical-align: middle;\n",
              "    }\n",
              "\n",
              "    .dataframe tbody tr th {\n",
              "        vertical-align: top;\n",
              "    }\n",
              "\n",
              "    .dataframe thead th {\n",
              "        text-align: right;\n",
              "    }\n",
              "</style>\n",
              "<table border=\"1\" class=\"dataframe\">\n",
              "  <thead>\n",
              "    <tr style=\"text-align: right;\">\n",
              "      <th></th>\n",
              "      <th>id_partida</th>\n",
              "      <th>pgn</th>\n",
              "    </tr>\n",
              "  </thead>\n",
              "  <tbody>\n",
              "    <tr>\n",
              "      <th>0</th>\n",
              "      <td>666000</td>\n",
              "      <td>b' 1. d4 Nf6 2. Nf3 e6 3. c4 c5 4. g3 cxd4 5. ...</td>\n",
              "    </tr>\n",
              "    <tr>\n",
              "      <th>1</th>\n",
              "      <td>666001</td>\n",
              "      <td>b' 1. d4 Nf6 2. c4 g6 3. Nc3 Bg7 4. e4 d6 5. N...</td>\n",
              "    </tr>\n",
              "    <tr>\n",
              "      <th>2</th>\n",
              "      <td>666002</td>\n",
              "      <td>b' 1. d4 Nf6 2. Nf3 d5 3. c4 e6 4. Nc3 Be7 5. ...</td>\n",
              "    </tr>\n",
              "    <tr>\n",
              "      <th>3</th>\n",
              "      <td>666003</td>\n",
              "      <td>b' 1. e4 Nf6 2. e5 Nd5 3. d4 d6 4. Nf3 g6 5. B...</td>\n",
              "    </tr>\n",
              "    <tr>\n",
              "      <th>4</th>\n",
              "      <td>666004</td>\n",
              "      <td>b' 1. d4 d5 2. c4 e6 3. Nc3 Be7 4. Nf3 Nf6 5. ...</td>\n",
              "    </tr>\n",
              "  </tbody>\n",
              "</table>\n",
              "</div>"
            ],
            "text/plain": [
              "   id_partida                                                pgn\n",
              "0      666000  b' 1. d4 Nf6 2. Nf3 e6 3. c4 c5 4. g3 cxd4 5. ...\n",
              "1      666001  b' 1. d4 Nf6 2. c4 g6 3. Nc3 Bg7 4. e4 d6 5. N...\n",
              "2      666002  b' 1. d4 Nf6 2. Nf3 d5 3. c4 e6 4. Nc3 Be7 5. ...\n",
              "3      666003  b' 1. e4 Nf6 2. e5 Nd5 3. d4 d6 4. Nf3 g6 5. B...\n",
              "4      666004  b' 1. d4 d5 2. c4 e6 3. Nc3 Be7 4. Nf3 Nf6 5. ..."
            ]
          },
          "metadata": {},
          "execution_count": 5
        }
      ]
    },
    {
      "cell_type": "markdown",
      "metadata": {
        "id": "vI1Zob03alnD"
      },
      "source": [
        "## Filtro dos jogos relevantes"
      ]
    },
    {
      "cell_type": "code",
      "metadata": {
        "colab": {
          "base_uri": "https://localhost:8080/"
        },
        "id": "pKaA3U3iasod",
        "outputId": "dc3e4a38-6226-4a31-bc27-a294b6343cf0"
      },
      "source": [
        "game_types = ['tourn', 'match', 'game', 'swiss']\n",
        "\n",
        "df_info = df_info[df_info['EventType'].isin(game_types)]\n",
        "\n",
        "print(df_info.shape)"
      ],
      "execution_count": null,
      "outputs": [
        {
          "output_type": "stream",
          "name": "stdout",
          "text": [
            "(2523852, 6)\n"
          ]
        }
      ]
    },
    {
      "cell_type": "code",
      "metadata": {
        "colab": {
          "base_uri": "https://localhost:8080/"
        },
        "id": "lgltGpLsa_lg",
        "outputId": "29d768ff-d308-41db-8553-b7aaabf01d08"
      },
      "source": [
        "valid_results = ['1-0', '0-1', '1/2-1/2']\n",
        "\n",
        "df_info = df_info[df_info['Result'].isin(valid_results)]\n",
        "\n",
        "print(df_info.shape)"
      ],
      "execution_count": null,
      "outputs": [
        {
          "output_type": "stream",
          "name": "stdout",
          "text": [
            "(2522056, 6)\n"
          ]
        }
      ]
    },
    {
      "cell_type": "code",
      "metadata": {
        "colab": {
          "base_uri": "https://localhost:8080/",
          "height": 206
        },
        "id": "23rChUwNbRn-",
        "outputId": "3a325942-0c07-4bb2-ea3b-e1194742628a"
      },
      "source": [
        "df_games = df_info.merge(df_pgn, how='left')\n",
        "\n",
        "df_games = df_games[~df_games['pgn'].isna()]\n",
        "\n",
        "df_games = df_games[~(df_games['pgn'].apply(lambda x: len(x)) == 8)]\n",
        "\n",
        "df_games.head()"
      ],
      "execution_count": null,
      "outputs": [
        {
          "output_type": "execute_result",
          "data": {
            "text/html": [
              "<div>\n",
              "<style scoped>\n",
              "    .dataframe tbody tr th:only-of-type {\n",
              "        vertical-align: middle;\n",
              "    }\n",
              "\n",
              "    .dataframe tbody tr th {\n",
              "        vertical-align: top;\n",
              "    }\n",
              "\n",
              "    .dataframe thead th {\n",
              "        text-align: right;\n",
              "    }\n",
              "</style>\n",
              "<table border=\"1\" class=\"dataframe\">\n",
              "  <thead>\n",
              "    <tr style=\"text-align: right;\">\n",
              "      <th></th>\n",
              "      <th>id_partida</th>\n",
              "      <th>WhiteElo</th>\n",
              "      <th>BlackElo</th>\n",
              "      <th>NbMoves</th>\n",
              "      <th>EventType</th>\n",
              "      <th>Result</th>\n",
              "      <th>pgn</th>\n",
              "    </tr>\n",
              "  </thead>\n",
              "  <tbody>\n",
              "    <tr>\n",
              "      <th>0</th>\n",
              "      <td>666000</td>\n",
              "      <td>2380.0</td>\n",
              "      <td>NaN</td>\n",
              "      <td>81</td>\n",
              "      <td>tourn</td>\n",
              "      <td>1/2-1/2</td>\n",
              "      <td>b' 1. d4 Nf6 2. Nf3 e6 3. c4 c5 4. g3 cxd4 5. ...</td>\n",
              "    </tr>\n",
              "    <tr>\n",
              "      <th>1</th>\n",
              "      <td>666001</td>\n",
              "      <td>2350.0</td>\n",
              "      <td>NaN</td>\n",
              "      <td>80</td>\n",
              "      <td>tourn</td>\n",
              "      <td>1-0</td>\n",
              "      <td>b' 1. d4 Nf6 2. c4 g6 3. Nc3 Bg7 4. e4 d6 5. N...</td>\n",
              "    </tr>\n",
              "    <tr>\n",
              "      <th>2</th>\n",
              "      <td>666002</td>\n",
              "      <td>2355.0</td>\n",
              "      <td>NaN</td>\n",
              "      <td>89</td>\n",
              "      <td>tourn</td>\n",
              "      <td>1/2-1/2</td>\n",
              "      <td>b' 1. d4 Nf6 2. Nf3 d5 3. c4 e6 4. Nc3 Be7 5. ...</td>\n",
              "    </tr>\n",
              "    <tr>\n",
              "      <th>3</th>\n",
              "      <td>666003</td>\n",
              "      <td>NaN</td>\n",
              "      <td>2365.0</td>\n",
              "      <td>30</td>\n",
              "      <td>tourn</td>\n",
              "      <td>1/2-1/2</td>\n",
              "      <td>b' 1. e4 Nf6 2. e5 Nd5 3. d4 d6 4. Nf3 g6 5. B...</td>\n",
              "    </tr>\n",
              "    <tr>\n",
              "      <th>4</th>\n",
              "      <td>666004</td>\n",
              "      <td>NaN</td>\n",
              "      <td>2370.0</td>\n",
              "      <td>72</td>\n",
              "      <td>tourn</td>\n",
              "      <td>1-0</td>\n",
              "      <td>b' 1. d4 d5 2. c4 e6 3. Nc3 Be7 4. Nf3 Nf6 5. ...</td>\n",
              "    </tr>\n",
              "  </tbody>\n",
              "</table>\n",
              "</div>"
            ],
            "text/plain": [
              "   id_partida  ...                                                pgn\n",
              "0      666000  ...  b' 1. d4 Nf6 2. Nf3 e6 3. c4 c5 4. g3 cxd4 5. ...\n",
              "1      666001  ...  b' 1. d4 Nf6 2. c4 g6 3. Nc3 Bg7 4. e4 d6 5. N...\n",
              "2      666002  ...  b' 1. d4 Nf6 2. Nf3 d5 3. c4 e6 4. Nc3 Be7 5. ...\n",
              "3      666003  ...  b' 1. e4 Nf6 2. e5 Nd5 3. d4 d6 4. Nf3 g6 5. B...\n",
              "4      666004  ...  b' 1. d4 d5 2. c4 e6 3. Nc3 Be7 4. Nf3 Nf6 5. ...\n",
              "\n",
              "[5 rows x 7 columns]"
            ]
          },
          "metadata": {},
          "execution_count": 8
        }
      ]
    },
    {
      "cell_type": "code",
      "metadata": {
        "id": "oDf9U3ICc5ut",
        "colab": {
          "base_uri": "https://localhost:8080/",
          "height": 157
        },
        "outputId": "23e45617-746f-45c0-b235-a45f90694ce4"
      },
      "source": [
        "df_games.loc[df_games.sample(1).index, 'pgn'].values[0]"
      ],
      "execution_count": null,
      "outputs": [
        {
          "output_type": "execute_result",
          "data": {
            "application/vnd.google.colaboratory.intrinsic+json": {
              "type": "string"
            },
            "text/plain": [
              "\"b' 1. d4 d5 2. c4 e6 3. Nf3 c5 4. cxd5 exd5 5. g3 Nc6 6. Bg2 Nf6 7. O-O Be7 8. dxc5 Bxc5 9. a3 O-O 10. b4 Bb6 11. Bb2 Ne4 12. Nc3 Be6 13. Na4 Bc7 14. Nd4 Qe7 15. Rc1 Nxd4 16. Qxd4 f6 17. Bxe4 dxe4 18. Qxe4 Bb6 19. Nxb6 axb6 20. Bd4 Qd6 21. Rfd1 Bd5 22. Qd3 Rfd8 23. e4 Be6 24. Qf3 Rac8 25. Rxc8 Bxc8 26. Rd2 Be6 27. Be3 Qe7 28. Rxd8+ Qxd8 29. Qe2 Kf7 30. Qh5+ Kf8 31. Kg2 h6 32. Qb5 Qc8 33. f3 Bh3+ 34. Kf2 Qc2+ 35. Qe2 Qb3 36. Bxb6 Qxa3 37. Bc5+ Kg8 38. g4 h5 39. gxh5 Qc1 40. Kg3 Bf1 41. Qe3 Qc2 42. Qg1 Bc4 43. h6 Qd2 44. Qe3 Qd1 45. hxg7 Kxg7 46. Bd4 Kg6 47. Bxf6 Kxf6 48. Qc3+ Kg5 49. h4+ Kh5 50. Qxc4 Qg1+ 51. Kf4 Kxh4 52. e5 Qg5+ 53. Ke4 Kg3 54. Qf7 Qd2 55. Qg7+ Kf2 56. Qxb7 Qc2+ 57. Kd4 Qb2+ 58. Kd5 Kxf3 59. e6 Kf4 60. Qb8+ Kf5 61. Qf8+ Kg5 62. Qc5 Kg6 63. b5 Qb3+ 64. Kd6 Qg3+ 65. Kd7 Qd3+ 66. Ke8 Qe4 67. Qc6 Qe5 68. e7+ Kg7 69. b6 Qh5+ 70. Kd8 1-0'\""
            ]
          },
          "metadata": {},
          "execution_count": 9
        }
      ]
    },
    {
      "cell_type": "markdown",
      "metadata": {
        "id": "bQdEWrZihdVw"
      },
      "source": [
        "## Filtro de comentários e variantes"
      ]
    },
    {
      "cell_type": "code",
      "metadata": {
        "id": "ObDn3R41hclI"
      },
      "source": [
        "import re"
      ],
      "execution_count": null,
      "outputs": []
    },
    {
      "cell_type": "code",
      "metadata": {
        "id": "gvDb7FRHcZvn",
        "colab": {
          "base_uri": "https://localhost:8080/",
          "height": 206
        },
        "outputId": "b66de356-e97e-4a40-cb4c-67797822d52a"
      },
      "source": [
        "df_games['pgn'] = df_games['pgn'].apply(lambda g: re.sub(r'\\([^)]*\\)', '', g)) # remove sidelines\n",
        "\n",
        "df_games['pgn'] = df_games['pgn'].apply(lambda g: re.sub(r'\\{[^)]*\\}', '', g)) # remove comentários\n",
        "\n",
        "df_games['pgn']  = df_games['pgn'].str[3:]\n",
        "\n",
        "df_games.head()"
      ],
      "execution_count": null,
      "outputs": [
        {
          "output_type": "execute_result",
          "data": {
            "text/html": [
              "<div>\n",
              "<style scoped>\n",
              "    .dataframe tbody tr th:only-of-type {\n",
              "        vertical-align: middle;\n",
              "    }\n",
              "\n",
              "    .dataframe tbody tr th {\n",
              "        vertical-align: top;\n",
              "    }\n",
              "\n",
              "    .dataframe thead th {\n",
              "        text-align: right;\n",
              "    }\n",
              "</style>\n",
              "<table border=\"1\" class=\"dataframe\">\n",
              "  <thead>\n",
              "    <tr style=\"text-align: right;\">\n",
              "      <th></th>\n",
              "      <th>id_partida</th>\n",
              "      <th>WhiteElo</th>\n",
              "      <th>BlackElo</th>\n",
              "      <th>NbMoves</th>\n",
              "      <th>EventType</th>\n",
              "      <th>Result</th>\n",
              "      <th>pgn</th>\n",
              "    </tr>\n",
              "  </thead>\n",
              "  <tbody>\n",
              "    <tr>\n",
              "      <th>0</th>\n",
              "      <td>666000</td>\n",
              "      <td>2380.0</td>\n",
              "      <td>NaN</td>\n",
              "      <td>81</td>\n",
              "      <td>tourn</td>\n",
              "      <td>1/2-1/2</td>\n",
              "      <td>1. d4 Nf6 2. Nf3 e6 3. c4 c5 4. g3 cxd4 5. Nxd...</td>\n",
              "    </tr>\n",
              "    <tr>\n",
              "      <th>1</th>\n",
              "      <td>666001</td>\n",
              "      <td>2350.0</td>\n",
              "      <td>NaN</td>\n",
              "      <td>80</td>\n",
              "      <td>tourn</td>\n",
              "      <td>1-0</td>\n",
              "      <td>1. d4 Nf6 2. c4 g6 3. Nc3 Bg7 4. e4 d6 5. Nf3 ...</td>\n",
              "    </tr>\n",
              "    <tr>\n",
              "      <th>2</th>\n",
              "      <td>666002</td>\n",
              "      <td>2355.0</td>\n",
              "      <td>NaN</td>\n",
              "      <td>89</td>\n",
              "      <td>tourn</td>\n",
              "      <td>1/2-1/2</td>\n",
              "      <td>1. d4 Nf6 2. Nf3 d5 3. c4 e6 4. Nc3 Be7 5. Bg5...</td>\n",
              "    </tr>\n",
              "    <tr>\n",
              "      <th>3</th>\n",
              "      <td>666003</td>\n",
              "      <td>NaN</td>\n",
              "      <td>2365.0</td>\n",
              "      <td>30</td>\n",
              "      <td>tourn</td>\n",
              "      <td>1/2-1/2</td>\n",
              "      <td>1. e4 Nf6 2. e5 Nd5 3. d4 d6 4. Nf3 g6 5. Bc4 ...</td>\n",
              "    </tr>\n",
              "    <tr>\n",
              "      <th>4</th>\n",
              "      <td>666004</td>\n",
              "      <td>NaN</td>\n",
              "      <td>2370.0</td>\n",
              "      <td>72</td>\n",
              "      <td>tourn</td>\n",
              "      <td>1-0</td>\n",
              "      <td>1. d4 d5 2. c4 e6 3. Nc3 Be7 4. Nf3 Nf6 5. Bf4...</td>\n",
              "    </tr>\n",
              "  </tbody>\n",
              "</table>\n",
              "</div>"
            ],
            "text/plain": [
              "   id_partida  ...                                                pgn\n",
              "0      666000  ...  1. d4 Nf6 2. Nf3 e6 3. c4 c5 4. g3 cxd4 5. Nxd...\n",
              "1      666001  ...  1. d4 Nf6 2. c4 g6 3. Nc3 Bg7 4. e4 d6 5. Nf3 ...\n",
              "2      666002  ...  1. d4 Nf6 2. Nf3 d5 3. c4 e6 4. Nc3 Be7 5. Bg5...\n",
              "3      666003  ...  1. e4 Nf6 2. e5 Nd5 3. d4 d6 4. Nf3 g6 5. Bc4 ...\n",
              "4      666004  ...  1. d4 d5 2. c4 e6 3. Nc3 Be7 4. Nf3 Nf6 5. Bf4...\n",
              "\n",
              "[5 rows x 7 columns]"
            ]
          },
          "metadata": {},
          "execution_count": 12
        }
      ]
    },
    {
      "cell_type": "markdown",
      "metadata": {
        "id": "Bd76pQFHhfwt"
      },
      "source": [
        "## Filtro de caracteres indesejados\n",
        "\n",
        "Conjuntos com cifrão, número com 3 pontos"
      ]
    },
    {
      "cell_type": "code",
      "metadata": {
        "id": "S8_4qrGiq0Pa",
        "colab": {
          "base_uri": "https://localhost:8080/",
          "height": 206
        },
        "outputId": "2df08abc-820f-4bc7-d108-269fb198258f"
      },
      "source": [
        "df_games['pgn'] = df_games['pgn'].apply(lambda g: re.sub(r'\\$\\d ', '', g)) # remove cifrões\n",
        "\n",
        "df_games['pgn'] = df_games['pgn'].apply(lambda g: re.sub(r' \\d\\d\\.\\.\\. ', '', g)) # remove lances com 3 pontos\n",
        "\n",
        "df_games.head()"
      ],
      "execution_count": null,
      "outputs": [
        {
          "output_type": "execute_result",
          "data": {
            "text/html": [
              "<div>\n",
              "<style scoped>\n",
              "    .dataframe tbody tr th:only-of-type {\n",
              "        vertical-align: middle;\n",
              "    }\n",
              "\n",
              "    .dataframe tbody tr th {\n",
              "        vertical-align: top;\n",
              "    }\n",
              "\n",
              "    .dataframe thead th {\n",
              "        text-align: right;\n",
              "    }\n",
              "</style>\n",
              "<table border=\"1\" class=\"dataframe\">\n",
              "  <thead>\n",
              "    <tr style=\"text-align: right;\">\n",
              "      <th></th>\n",
              "      <th>id_partida</th>\n",
              "      <th>WhiteElo</th>\n",
              "      <th>BlackElo</th>\n",
              "      <th>NbMoves</th>\n",
              "      <th>EventType</th>\n",
              "      <th>Result</th>\n",
              "      <th>pgn</th>\n",
              "    </tr>\n",
              "  </thead>\n",
              "  <tbody>\n",
              "    <tr>\n",
              "      <th>0</th>\n",
              "      <td>666000</td>\n",
              "      <td>2380.0</td>\n",
              "      <td>NaN</td>\n",
              "      <td>81</td>\n",
              "      <td>tourn</td>\n",
              "      <td>1/2-1/2</td>\n",
              "      <td>1. d4 Nf6 2. Nf3 e6 3. c4 c5 4. g3 cxd4 5. Nxd...</td>\n",
              "    </tr>\n",
              "    <tr>\n",
              "      <th>1</th>\n",
              "      <td>666001</td>\n",
              "      <td>2350.0</td>\n",
              "      <td>NaN</td>\n",
              "      <td>80</td>\n",
              "      <td>tourn</td>\n",
              "      <td>1-0</td>\n",
              "      <td>1. d4 Nf6 2. c4 g6 3. Nc3 Bg7 4. e4 d6 5. Nf3 ...</td>\n",
              "    </tr>\n",
              "    <tr>\n",
              "      <th>2</th>\n",
              "      <td>666002</td>\n",
              "      <td>2355.0</td>\n",
              "      <td>NaN</td>\n",
              "      <td>89</td>\n",
              "      <td>tourn</td>\n",
              "      <td>1/2-1/2</td>\n",
              "      <td>1. d4 Nf6 2. Nf3 d5 3. c4 e6 4. Nc3 Be7 5. Bg5...</td>\n",
              "    </tr>\n",
              "    <tr>\n",
              "      <th>3</th>\n",
              "      <td>666003</td>\n",
              "      <td>NaN</td>\n",
              "      <td>2365.0</td>\n",
              "      <td>30</td>\n",
              "      <td>tourn</td>\n",
              "      <td>1/2-1/2</td>\n",
              "      <td>1. e4 Nf6 2. e5 Nd5 3. d4 d6 4. Nf3 g6 5. Bc4 ...</td>\n",
              "    </tr>\n",
              "    <tr>\n",
              "      <th>4</th>\n",
              "      <td>666004</td>\n",
              "      <td>NaN</td>\n",
              "      <td>2370.0</td>\n",
              "      <td>72</td>\n",
              "      <td>tourn</td>\n",
              "      <td>1-0</td>\n",
              "      <td>1. d4 d5 2. c4 e6 3. Nc3 Be7 4. Nf3 Nf6 5. Bf4...</td>\n",
              "    </tr>\n",
              "  </tbody>\n",
              "</table>\n",
              "</div>"
            ],
            "text/plain": [
              "   id_partida  ...                                                pgn\n",
              "0      666000  ...  1. d4 Nf6 2. Nf3 e6 3. c4 c5 4. g3 cxd4 5. Nxd...\n",
              "1      666001  ...  1. d4 Nf6 2. c4 g6 3. Nc3 Bg7 4. e4 d6 5. Nf3 ...\n",
              "2      666002  ...  1. d4 Nf6 2. Nf3 d5 3. c4 e6 4. Nc3 Be7 5. Bg5...\n",
              "3      666003  ...  1. e4 Nf6 2. e5 Nd5 3. d4 d6 4. Nf3 g6 5. Bc4 ...\n",
              "4      666004  ...  1. d4 d5 2. c4 e6 3. Nc3 Be7 4. Nf3 Nf6 5. Bf4...\n",
              "\n",
              "[5 rows x 7 columns]"
            ]
          },
          "metadata": {},
          "execution_count": 13
        }
      ]
    },
    {
      "cell_type": "markdown",
      "metadata": {
        "id": "xf_oG535sZAN"
      },
      "source": [
        "# Criação do vocabulário do xadrez"
      ]
    },
    {
      "cell_type": "code",
      "metadata": {
        "id": "-CtcRuwoscgJ",
        "colab": {
          "base_uri": "https://localhost:8080/"
        },
        "outputId": "c0edd7dd-26e1-4d5e-c4be-a279339c16b3"
      },
      "source": [
        "linhas = ['1', '2', '3', '4', '5', '6', '7', '8']\n",
        "colunas = ['a', 'b', 'c', 'd', 'e', 'f', 'g', 'h']\n",
        "\n",
        "pecas = ['N', 'B', 'R', 'Q', 'K']\n",
        "variacoes = ['+', '#']\n",
        "\n",
        "casas = []\n",
        "\n",
        "for coluna in colunas:\n",
        "    for linha in linhas:\n",
        "        casas.append(coluna + linha)\n",
        "\n",
        "# Movimentos comuns\n",
        "\n",
        "movimentos_comuns = []\n",
        "movimentos_comuns_com_indicador = []\n",
        "\n",
        "movimentos_comuns_captura = []\n",
        "movimentos_comuns_captura_com_indicador = []\n",
        "\n",
        "for peca in pecas:\n",
        "    for casa in casas:\n",
        "        movimentos_comuns.append(peca + casa) # movimentos comuns\n",
        "\n",
        "        movimentos_comuns_captura.append(peca + 'x' + casa) # movimentos com captura\n",
        "\n",
        "        if peca in ('N', 'R'):\n",
        "            for indicador in linhas + colunas:\n",
        "                movimentos_comuns_com_indicador.append(peca + indicador + casa)\n",
        "                movimentos_comuns_captura_com_indicador.append(peca + indicador + 'x' + casa)\n",
        "\n",
        "# Movimentos peoes\n",
        "\n",
        "movimentos_peoes = casas.copy()\n",
        "movimentos_peoes_com_captura = []\n",
        "movimentos_peoes_promocao = []\n",
        "\n",
        "for coluna in colunas:\n",
        "    for casa in casas:\n",
        "        movimentos_peoes_com_captura.append(coluna + 'x' + casa)\n",
        "\n",
        "for movimento_peao in movimentos_peoes + movimentos_peoes_com_captura:\n",
        "    if movimento_peao[-1] in ('1', '8'):\n",
        "        for promocao in pecas:\n",
        "            if promocao != 'K':\n",
        "                movimentos_peoes_promocao.append(movimento_peao + '=' + promocao)\n",
        "\n",
        "print(f'{len(movimentos_comuns)} movimentos comuns')\n",
        "print(f'{len(movimentos_comuns_com_indicador)} movimentos comuns com indicador')\n",
        "print(f'{len(movimentos_comuns_captura)} movimentos comuns com captura')\n",
        "print(f'{len(movimentos_comuns_captura_com_indicador)} movimentos comuns com captura com indicador')\n",
        "print(f'{len(movimentos_peoes)} movimentos de peões')\n",
        "print(f'{len(movimentos_peoes_com_captura)} movimentos de peões com captura')\n",
        "print(f'{len(movimentos_peoes_promocao)} movimentos de peões com promoção')\n",
        "\n",
        "roques = ['O-O-O', 'O-O']\n",
        "\n",
        "todos_movimentos = movimentos_comuns + movimentos_comuns_captura + movimentos_comuns_captura_com_indicador +\\\n",
        " movimentos_comuns_com_indicador + movimentos_peoes + movimentos_peoes_com_captura + movimentos_peoes_promocao + roques\n",
        "\n",
        "cheques = [movimento + '+' for movimento in todos_movimentos]\n",
        "mates = [movimento + '#' for movimento in todos_movimentos]\n",
        "\n",
        "todos_movimentos = todos_movimentos + cheques + mates\n",
        "\n",
        "print(f'{len(todos_movimentos)} movimentos mapeados')"
      ],
      "execution_count": null,
      "outputs": [
        {
          "output_type": "stream",
          "name": "stdout",
          "text": [
            "320 movimentos comuns\n",
            "2048 movimentos comuns com indicador\n",
            "320 movimentos comuns com captura\n",
            "2048 movimentos comuns com captura com indicador\n",
            "64 movimentos de peões\n",
            "512 movimentos de peões com captura\n",
            "576 movimentos de peões com promoção\n",
            "17670 movimentos mapeados\n"
          ]
        }
      ]
    },
    {
      "cell_type": "markdown",
      "metadata": {
        "id": "FDIAs1O90XFj"
      },
      "source": [
        "# Tratamento do PGN para o modelo (remoção das informações extras)"
      ]
    },
    {
      "cell_type": "code",
      "metadata": {
        "id": "gSB0SZEC0OBt",
        "colab": {
          "base_uri": "https://localhost:8080/",
          "height": 293
        },
        "outputId": "b7de8573-defc-4243-d898-92fc85e1bb8f"
      },
      "source": [
        "df_games['game_text'] = df_games['pgn'].apply(lambda g: re.sub(r'( \\d+\\.)|(1\\. )|( \\d-\\d)|( 1/2-1/2)|\\'', '', g))\n",
        "\n",
        "df_games.head()"
      ],
      "execution_count": null,
      "outputs": [
        {
          "output_type": "execute_result",
          "data": {
            "text/html": [
              "<div>\n",
              "<style scoped>\n",
              "    .dataframe tbody tr th:only-of-type {\n",
              "        vertical-align: middle;\n",
              "    }\n",
              "\n",
              "    .dataframe tbody tr th {\n",
              "        vertical-align: top;\n",
              "    }\n",
              "\n",
              "    .dataframe thead th {\n",
              "        text-align: right;\n",
              "    }\n",
              "</style>\n",
              "<table border=\"1\" class=\"dataframe\">\n",
              "  <thead>\n",
              "    <tr style=\"text-align: right;\">\n",
              "      <th></th>\n",
              "      <th>id_partida</th>\n",
              "      <th>WhiteElo</th>\n",
              "      <th>BlackElo</th>\n",
              "      <th>NbMoves</th>\n",
              "      <th>EventType</th>\n",
              "      <th>Result</th>\n",
              "      <th>pgn</th>\n",
              "      <th>game_text</th>\n",
              "    </tr>\n",
              "  </thead>\n",
              "  <tbody>\n",
              "    <tr>\n",
              "      <th>0</th>\n",
              "      <td>666000</td>\n",
              "      <td>2380.0</td>\n",
              "      <td>NaN</td>\n",
              "      <td>81</td>\n",
              "      <td>tourn</td>\n",
              "      <td>1/2-1/2</td>\n",
              "      <td>1. d4 Nf6 2. Nf3 e6 3. c4 c5 4. g3 cxd4 5. Nxd...</td>\n",
              "      <td>d4 Nf6 Nf3 e6 c4 c5 g3 cxd4 Nxd4 d5 Bg2 e5 Nc2...</td>\n",
              "    </tr>\n",
              "    <tr>\n",
              "      <th>1</th>\n",
              "      <td>666001</td>\n",
              "      <td>2350.0</td>\n",
              "      <td>NaN</td>\n",
              "      <td>80</td>\n",
              "      <td>tourn</td>\n",
              "      <td>1-0</td>\n",
              "      <td>1. d4 Nf6 2. c4 g6 3. Nc3 Bg7 4. e4 d6 5. Nf3 ...</td>\n",
              "      <td>d4 Nf6 c4 g6 Nc3 Bg7 e4 d6 Nf3 O-O Be2 e5 O-O ...</td>\n",
              "    </tr>\n",
              "    <tr>\n",
              "      <th>2</th>\n",
              "      <td>666002</td>\n",
              "      <td>2355.0</td>\n",
              "      <td>NaN</td>\n",
              "      <td>89</td>\n",
              "      <td>tourn</td>\n",
              "      <td>1/2-1/2</td>\n",
              "      <td>1. d4 Nf6 2. Nf3 d5 3. c4 e6 4. Nc3 Be7 5. Bg5...</td>\n",
              "      <td>d4 Nf6 Nf3 d5 c4 e6 Nc3 Be7 Bg5 h6 Bxf6 Bxf6 e...</td>\n",
              "    </tr>\n",
              "    <tr>\n",
              "      <th>3</th>\n",
              "      <td>666003</td>\n",
              "      <td>NaN</td>\n",
              "      <td>2365.0</td>\n",
              "      <td>30</td>\n",
              "      <td>tourn</td>\n",
              "      <td>1/2-1/2</td>\n",
              "      <td>1. e4 Nf6 2. e5 Nd5 3. d4 d6 4. Nf3 g6 5. Bc4 ...</td>\n",
              "      <td>e4 Nf6 e5 Nd5 d4 d6 Nf3 g6 Bc4 Nb6 Bb3 Bg7 Ng5...</td>\n",
              "    </tr>\n",
              "    <tr>\n",
              "      <th>4</th>\n",
              "      <td>666004</td>\n",
              "      <td>NaN</td>\n",
              "      <td>2370.0</td>\n",
              "      <td>72</td>\n",
              "      <td>tourn</td>\n",
              "      <td>1-0</td>\n",
              "      <td>1. d4 d5 2. c4 e6 3. Nc3 Be7 4. Nf3 Nf6 5. Bf4...</td>\n",
              "      <td>d4 d5 c4 e6 Nc3 Be7 Nf3 Nf6 Bf4 O-O e3 c5 dxc5...</td>\n",
              "    </tr>\n",
              "  </tbody>\n",
              "</table>\n",
              "</div>"
            ],
            "text/plain": [
              "   id_partida  ...                                          game_text\n",
              "0      666000  ...  d4 Nf6 Nf3 e6 c4 c5 g3 cxd4 Nxd4 d5 Bg2 e5 Nc2...\n",
              "1      666001  ...  d4 Nf6 c4 g6 Nc3 Bg7 e4 d6 Nf3 O-O Be2 e5 O-O ...\n",
              "2      666002  ...  d4 Nf6 Nf3 d5 c4 e6 Nc3 Be7 Bg5 h6 Bxf6 Bxf6 e...\n",
              "3      666003  ...  e4 Nf6 e5 Nd5 d4 d6 Nf3 g6 Bc4 Nb6 Bb3 Bg7 Ng5...\n",
              "4      666004  ...  d4 d5 c4 e6 Nc3 Be7 Nf3 Nf6 Bf4 O-O e3 c5 dxc5...\n",
              "\n",
              "[5 rows x 8 columns]"
            ]
          },
          "metadata": {},
          "execution_count": 15
        }
      ]
    },
    {
      "cell_type": "code",
      "metadata": {
        "id": "u87O5I0J_Hcx"
      },
      "source": [
        "import numpy as np"
      ],
      "execution_count": null,
      "outputs": []
    },
    {
      "cell_type": "code",
      "metadata": {
        "id": "5V_RRq0h1bof"
      },
      "source": [
        "df_games['valid_game'] = df_games['game_text'].apply(lambda x: all(np.isin(x.split(' '), todos_movimentos, assume_unique=True)))"
      ],
      "execution_count": null,
      "outputs": []
    },
    {
      "cell_type": "code",
      "metadata": {
        "colab": {
          "base_uri": "https://localhost:8080/"
        },
        "id": "UIhP9heR4jVP",
        "outputId": "13dbd470-89e9-474d-b6a3-b3116efd617d"
      },
      "source": [
        "df_games['valid_game'].value_counts(normalize=True)"
      ],
      "execution_count": null,
      "outputs": [
        {
          "output_type": "execute_result",
          "data": {
            "text/plain": [
              "True     0.950808\n",
              "False    0.049192\n",
              "Name: valid_game, dtype: float64"
            ]
          },
          "metadata": {},
          "execution_count": 26
        }
      ]
    },
    {
      "cell_type": "code",
      "metadata": {
        "colab": {
          "base_uri": "https://localhost:8080/"
        },
        "id": "2vv0FvRQ8LCU",
        "outputId": "c77eecc4-1563-47f1-9ac2-1940178dcdd4"
      },
      "source": [
        "df_valid_games = df_games[(df_games['valid_game']) & (df_games['game_text'] != '')]\n",
        "\n",
        "print(df_valid_games.shape)"
      ],
      "execution_count": null,
      "outputs": [
        {
          "output_type": "stream",
          "name": "stdout",
          "text": [
            "(2375140, 9)\n"
          ]
        }
      ]
    },
    {
      "cell_type": "code",
      "metadata": {
        "colab": {
          "base_uri": "https://localhost:8080/",
          "height": 293
        },
        "id": "sBUAzBAQ4s4x",
        "outputId": "fb371ae1-1253-4166-a4a9-90c870c5f9e0"
      },
      "source": [
        "df_valid_games.head()"
      ],
      "execution_count": null,
      "outputs": [
        {
          "output_type": "execute_result",
          "data": {
            "text/html": [
              "<div>\n",
              "<style scoped>\n",
              "    .dataframe tbody tr th:only-of-type {\n",
              "        vertical-align: middle;\n",
              "    }\n",
              "\n",
              "    .dataframe tbody tr th {\n",
              "        vertical-align: top;\n",
              "    }\n",
              "\n",
              "    .dataframe thead th {\n",
              "        text-align: right;\n",
              "    }\n",
              "</style>\n",
              "<table border=\"1\" class=\"dataframe\">\n",
              "  <thead>\n",
              "    <tr style=\"text-align: right;\">\n",
              "      <th></th>\n",
              "      <th>id_partida</th>\n",
              "      <th>WhiteElo</th>\n",
              "      <th>BlackElo</th>\n",
              "      <th>NbMoves</th>\n",
              "      <th>EventType</th>\n",
              "      <th>Result</th>\n",
              "      <th>pgn</th>\n",
              "      <th>game_text</th>\n",
              "      <th>valid_game</th>\n",
              "    </tr>\n",
              "  </thead>\n",
              "  <tbody>\n",
              "    <tr>\n",
              "      <th>0</th>\n",
              "      <td>666000</td>\n",
              "      <td>2380.0</td>\n",
              "      <td>NaN</td>\n",
              "      <td>81</td>\n",
              "      <td>tourn</td>\n",
              "      <td>1/2-1/2</td>\n",
              "      <td>1. d4 Nf6 2. Nf3 e6 3. c4 c5 4. g3 cxd4 5. Nxd...</td>\n",
              "      <td>d4 Nf6 Nf3 e6 c4 c5 g3 cxd4 Nxd4 d5 Bg2 e5 Nc2...</td>\n",
              "      <td>True</td>\n",
              "    </tr>\n",
              "    <tr>\n",
              "      <th>1</th>\n",
              "      <td>666001</td>\n",
              "      <td>2350.0</td>\n",
              "      <td>NaN</td>\n",
              "      <td>80</td>\n",
              "      <td>tourn</td>\n",
              "      <td>1-0</td>\n",
              "      <td>1. d4 Nf6 2. c4 g6 3. Nc3 Bg7 4. e4 d6 5. Nf3 ...</td>\n",
              "      <td>d4 Nf6 c4 g6 Nc3 Bg7 e4 d6 Nf3 O-O Be2 e5 O-O ...</td>\n",
              "      <td>True</td>\n",
              "    </tr>\n",
              "    <tr>\n",
              "      <th>2</th>\n",
              "      <td>666002</td>\n",
              "      <td>2355.0</td>\n",
              "      <td>NaN</td>\n",
              "      <td>89</td>\n",
              "      <td>tourn</td>\n",
              "      <td>1/2-1/2</td>\n",
              "      <td>1. d4 Nf6 2. Nf3 d5 3. c4 e6 4. Nc3 Be7 5. Bg5...</td>\n",
              "      <td>d4 Nf6 Nf3 d5 c4 e6 Nc3 Be7 Bg5 h6 Bxf6 Bxf6 e...</td>\n",
              "      <td>True</td>\n",
              "    </tr>\n",
              "    <tr>\n",
              "      <th>3</th>\n",
              "      <td>666003</td>\n",
              "      <td>NaN</td>\n",
              "      <td>2365.0</td>\n",
              "      <td>30</td>\n",
              "      <td>tourn</td>\n",
              "      <td>1/2-1/2</td>\n",
              "      <td>1. e4 Nf6 2. e5 Nd5 3. d4 d6 4. Nf3 g6 5. Bc4 ...</td>\n",
              "      <td>e4 Nf6 e5 Nd5 d4 d6 Nf3 g6 Bc4 Nb6 Bb3 Bg7 Ng5...</td>\n",
              "      <td>True</td>\n",
              "    </tr>\n",
              "    <tr>\n",
              "      <th>4</th>\n",
              "      <td>666004</td>\n",
              "      <td>NaN</td>\n",
              "      <td>2370.0</td>\n",
              "      <td>72</td>\n",
              "      <td>tourn</td>\n",
              "      <td>1-0</td>\n",
              "      <td>1. d4 d5 2. c4 e6 3. Nc3 Be7 4. Nf3 Nf6 5. Bf4...</td>\n",
              "      <td>d4 d5 c4 e6 Nc3 Be7 Nf3 Nf6 Bf4 O-O e3 c5 dxc5...</td>\n",
              "      <td>True</td>\n",
              "    </tr>\n",
              "  </tbody>\n",
              "</table>\n",
              "</div>"
            ],
            "text/plain": [
              "   id_partida  ...  valid_game\n",
              "0      666000  ...        True\n",
              "1      666001  ...        True\n",
              "2      666002  ...        True\n",
              "3      666003  ...        True\n",
              "4      666004  ...        True\n",
              "\n",
              "[5 rows x 9 columns]"
            ]
          },
          "metadata": {},
          "execution_count": 30
        }
      ]
    },
    {
      "cell_type": "code",
      "metadata": {
        "id": "Jf43lLJY7Jx-"
      },
      "source": [
        "df_export = df_games[['game_text']]"
      ],
      "execution_count": null,
      "outputs": []
    },
    {
      "cell_type": "code",
      "metadata": {
        "id": "w3mjuUjO7N2F"
      },
      "source": [
        "df_export.columns = ['']"
      ],
      "execution_count": null,
      "outputs": []
    },
    {
      "cell_type": "code",
      "metadata": {
        "colab": {
          "base_uri": "https://localhost:8080/",
          "height": 206
        },
        "id": "o8mGhSbmRq6-",
        "outputId": "9f2568f0-cb96-44a9-e529-c00ec88e70c8"
      },
      "source": [
        "print(df_export.shape)\n",
        "\n",
        "df_export.head()"
      ],
      "execution_count": null,
      "outputs": [
        {
          "output_type": "stream",
          "name": "stdout",
          "text": [
            "(2498023, 1)\n"
          ]
        },
        {
          "output_type": "execute_result",
          "data": {
            "text/html": [
              "<div>\n",
              "<style scoped>\n",
              "    .dataframe tbody tr th:only-of-type {\n",
              "        vertical-align: middle;\n",
              "    }\n",
              "\n",
              "    .dataframe tbody tr th {\n",
              "        vertical-align: top;\n",
              "    }\n",
              "\n",
              "    .dataframe thead th {\n",
              "        text-align: right;\n",
              "    }\n",
              "</style>\n",
              "<table border=\"1\" class=\"dataframe\">\n",
              "  <thead>\n",
              "    <tr style=\"text-align: right;\">\n",
              "      <th></th>\n",
              "      <th></th>\n",
              "    </tr>\n",
              "  </thead>\n",
              "  <tbody>\n",
              "    <tr>\n",
              "      <th>0</th>\n",
              "      <td>d4 Nf6 Nf3 e6 c4 c5 g3 cxd4 Nxd4 d5 Bg2 e5 Nc2...</td>\n",
              "    </tr>\n",
              "    <tr>\n",
              "      <th>1</th>\n",
              "      <td>d4 Nf6 c4 g6 Nc3 Bg7 e4 d6 Nf3 O-O Be2 e5 O-O ...</td>\n",
              "    </tr>\n",
              "    <tr>\n",
              "      <th>2</th>\n",
              "      <td>d4 Nf6 Nf3 d5 c4 e6 Nc3 Be7 Bg5 h6 Bxf6 Bxf6 e...</td>\n",
              "    </tr>\n",
              "    <tr>\n",
              "      <th>3</th>\n",
              "      <td>e4 Nf6 e5 Nd5 d4 d6 Nf3 g6 Bc4 Nb6 Bb3 Bg7 Ng5...</td>\n",
              "    </tr>\n",
              "    <tr>\n",
              "      <th>4</th>\n",
              "      <td>d4 d5 c4 e6 Nc3 Be7 Nf3 Nf6 Bf4 O-O e3 c5 dxc5...</td>\n",
              "    </tr>\n",
              "  </tbody>\n",
              "</table>\n",
              "</div>"
            ],
            "text/plain": [
              "                                                    \n",
              "0  d4 Nf6 Nf3 e6 c4 c5 g3 cxd4 Nxd4 d5 Bg2 e5 Nc2...\n",
              "1  d4 Nf6 c4 g6 Nc3 Bg7 e4 d6 Nf3 O-O Be2 e5 O-O ...\n",
              "2  d4 Nf6 Nf3 d5 c4 e6 Nc3 Be7 Bg5 h6 Bxf6 Bxf6 e...\n",
              "3  e4 Nf6 e5 Nd5 d4 d6 Nf3 g6 Bc4 Nb6 Bb3 Bg7 Ng5...\n",
              "4  d4 d5 c4 e6 Nc3 Be7 Nf3 Nf6 Bf4 O-O e3 c5 dxc5..."
            ]
          },
          "metadata": {},
          "execution_count": 34
        }
      ]
    },
    {
      "cell_type": "code",
      "metadata": {
        "id": "aAIpJ1R181XU"
      },
      "source": [
        "from sklearn.model_selection import train_test_split"
      ],
      "execution_count": null,
      "outputs": []
    },
    {
      "cell_type": "code",
      "metadata": {
        "id": "XI6RQa6R9ELT"
      },
      "source": [
        "df_export_train, df_export_valid = train_test_split(df_export, test_size=.1)"
      ],
      "execution_count": null,
      "outputs": []
    },
    {
      "cell_type": "code",
      "metadata": {
        "id": "rNsx0Nfb9XHy"
      },
      "source": [
        "df_export_train.to_csv(f'{PATH_TO_SAVE_FILES}/games_train.txt', index=False)"
      ],
      "execution_count": null,
      "outputs": []
    },
    {
      "cell_type": "code",
      "metadata": {
        "id": "G0s5_zs46vtM"
      },
      "source": [
        "df_export_valid.to_csv(f'{PATH_TO_SAVE_FILES}/games_valid.txt', index=False)"
      ],
      "execution_count": null,
      "outputs": []
    }
  ]
}