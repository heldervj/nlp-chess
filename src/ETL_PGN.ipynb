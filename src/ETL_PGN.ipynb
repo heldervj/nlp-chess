{
  "nbformat": 4,
  "nbformat_minor": 0,
  "metadata": {
    "colab": {
      "name": "ETL PGN.ipynb",
      "provenance": [],
      "collapsed_sections": [],
      "machine_shape": "hm",
      "toc_visible": true
    },
    "kernelspec": {
      "display_name": "Python 3",
      "name": "python3"
    },
    "language_info": {
      "name": "python"
    }
  },
  "cells": [
    {
      "cell_type": "markdown",
      "metadata": {
        "id": "lMsbz_0VOGDS"
      },
      "source": [
        "# Processamento do PGN"
      ]
    },
    {
      "cell_type": "code",
      "metadata": {
        "colab": {
          "base_uri": "https://localhost:8080/"
        },
        "id": "RvpdeVbcUyaG",
        "outputId": "de75b4d7-50c6-4d71-ca9c-27cb02eae501"
      },
      "source": [
        "!pip install neptune-client"
      ],
      "execution_count": null,
      "outputs": [
        {
          "output_type": "stream",
          "name": "stdout",
          "text": [
            "Collecting neptune-client\n",
            "  Downloading neptune-client-0.13.3.tar.gz (276 kB)\n",
            "\u001b[?25l\r\u001b[K     |█▏                              | 10 kB 15.0 MB/s eta 0:00:01\r\u001b[K     |██▍                             | 20 kB 18.6 MB/s eta 0:00:01\r\u001b[K     |███▌                            | 30 kB 13.6 MB/s eta 0:00:01\r\u001b[K     |████▊                           | 40 kB 9.5 MB/s eta 0:00:01\r\u001b[K     |██████                          | 51 kB 5.3 MB/s eta 0:00:01\r\u001b[K     |███████                         | 61 kB 5.4 MB/s eta 0:00:01\r\u001b[K     |████████▎                       | 71 kB 6.0 MB/s eta 0:00:01\r\u001b[K     |█████████▌                      | 81 kB 6.7 MB/s eta 0:00:01\r\u001b[K     |██████████▋                     | 92 kB 6.9 MB/s eta 0:00:01\r\u001b[K     |███████████▉                    | 102 kB 5.3 MB/s eta 0:00:01\r\u001b[K     |█████████████                   | 112 kB 5.3 MB/s eta 0:00:01\r\u001b[K     |██████████████▏                 | 122 kB 5.3 MB/s eta 0:00:01\r\u001b[K     |███████████████▍                | 133 kB 5.3 MB/s eta 0:00:01\r\u001b[K     |████████████████▋               | 143 kB 5.3 MB/s eta 0:00:01\r\u001b[K     |█████████████████▊              | 153 kB 5.3 MB/s eta 0:00:01\r\u001b[K     |███████████████████             | 163 kB 5.3 MB/s eta 0:00:01\r\u001b[K     |████████████████████▏           | 174 kB 5.3 MB/s eta 0:00:01\r\u001b[K     |█████████████████████▎          | 184 kB 5.3 MB/s eta 0:00:01\r\u001b[K     |██████████████████████▌         | 194 kB 5.3 MB/s eta 0:00:01\r\u001b[K     |███████████████████████▊        | 204 kB 5.3 MB/s eta 0:00:01\r\u001b[K     |████████████████████████▉       | 215 kB 5.3 MB/s eta 0:00:01\r\u001b[K     |██████████████████████████      | 225 kB 5.3 MB/s eta 0:00:01\r\u001b[K     |███████████████████████████▎    | 235 kB 5.3 MB/s eta 0:00:01\r\u001b[K     |████████████████████████████▍   | 245 kB 5.3 MB/s eta 0:00:01\r\u001b[K     |█████████████████████████████▋  | 256 kB 5.3 MB/s eta 0:00:01\r\u001b[K     |██████████████████████████████▉ | 266 kB 5.3 MB/s eta 0:00:01\r\u001b[K     |████████████████████████████████| 276 kB 5.3 MB/s eta 0:00:01\r\u001b[K     |████████████████████████████████| 276 kB 5.3 MB/s \n",
            "\u001b[?25hCollecting bravado\n",
            "  Downloading bravado-11.0.3-py2.py3-none-any.whl (38 kB)\n",
            "Requirement already satisfied: click>=7.0 in /usr/local/lib/python3.7/dist-packages (from neptune-client) (7.1.2)\n",
            "Collecting future>=0.17.1\n",
            "  Downloading future-0.18.2.tar.gz (829 kB)\n",
            "\u001b[K     |████████████████████████████████| 829 kB 35.1 MB/s \n",
            "\u001b[?25hRequirement already satisfied: oauthlib>=2.1.0 in /usr/local/lib/python3.7/dist-packages (from neptune-client) (3.1.1)\n",
            "Requirement already satisfied: pandas in /usr/local/lib/python3.7/dist-packages (from neptune-client) (1.1.5)\n",
            "Requirement already satisfied: Pillow>=1.1.6 in /usr/local/lib/python3.7/dist-packages (from neptune-client) (7.1.2)\n",
            "Collecting PyJWT\n",
            "  Downloading PyJWT-2.3.0-py3-none-any.whl (16 kB)\n",
            "Requirement already satisfied: requests>=2.20.0 in /usr/local/lib/python3.7/dist-packages (from neptune-client) (2.23.0)\n",
            "Requirement already satisfied: requests-oauthlib>=1.0.0 in /usr/local/lib/python3.7/dist-packages (from neptune-client) (1.3.0)\n",
            "Requirement already satisfied: six>=1.12.0 in /usr/local/lib/python3.7/dist-packages (from neptune-client) (1.15.0)\n",
            "Collecting websocket-client!=1.0.0,>=0.35.0\n",
            "  Downloading websocket_client-1.2.1-py2.py3-none-any.whl (52 kB)\n",
            "\u001b[K     |████████████████████████████████| 52 kB 1.2 MB/s \n",
            "\u001b[?25hCollecting GitPython>=2.0.8\n",
            "  Downloading GitPython-3.1.24-py3-none-any.whl (180 kB)\n",
            "\u001b[K     |████████████████████████████████| 180 kB 62.4 MB/s \n",
            "\u001b[?25hCollecting boto3>=1.16.0\n",
            "  Downloading boto3-1.20.20-py3-none-any.whl (131 kB)\n",
            "\u001b[K     |████████████████████████████████| 131 kB 63.2 MB/s \n",
            "\u001b[?25hRequirement already satisfied: packaging in /usr/local/lib/python3.7/dist-packages (from neptune-client) (21.3)\n",
            "Requirement already satisfied: urllib3 in /usr/local/lib/python3.7/dist-packages (from neptune-client) (1.24.3)\n",
            "Requirement already satisfied: jsonschema<4 in /usr/local/lib/python3.7/dist-packages (from neptune-client) (2.6.0)\n",
            "Requirement already satisfied: psutil in /usr/local/lib/python3.7/dist-packages (from neptune-client) (5.4.8)\n",
            "Collecting s3transfer<0.6.0,>=0.5.0\n",
            "  Downloading s3transfer-0.5.0-py3-none-any.whl (79 kB)\n",
            "\u001b[K     |████████████████████████████████| 79 kB 7.2 MB/s \n",
            "\u001b[?25hCollecting jmespath<1.0.0,>=0.7.1\n",
            "  Downloading jmespath-0.10.0-py2.py3-none-any.whl (24 kB)\n",
            "Collecting botocore<1.24.0,>=1.23.20\n",
            "  Downloading botocore-1.23.20-py3-none-any.whl (8.4 MB)\n",
            "\u001b[K     |████████████████████████████████| 8.4 MB 35.3 MB/s \n",
            "\u001b[?25hCollecting urllib3\n",
            "  Downloading urllib3-1.26.7-py2.py3-none-any.whl (138 kB)\n",
            "\u001b[K     |████████████████████████████████| 138 kB 56.9 MB/s \n",
            "\u001b[?25hRequirement already satisfied: python-dateutil<3.0.0,>=2.1 in /usr/local/lib/python3.7/dist-packages (from botocore<1.24.0,>=1.23.20->boto3>=1.16.0->neptune-client) (2.8.2)\n",
            "Requirement already satisfied: typing-extensions>=3.7.4.3 in /usr/local/lib/python3.7/dist-packages (from GitPython>=2.0.8->neptune-client) (3.10.0.2)\n",
            "Collecting gitdb<5,>=4.0.1\n",
            "  Downloading gitdb-4.0.9-py3-none-any.whl (63 kB)\n",
            "\u001b[K     |████████████████████████████████| 63 kB 1.5 MB/s \n",
            "\u001b[?25hCollecting smmap<6,>=3.0.1\n",
            "  Downloading smmap-5.0.0-py3-none-any.whl (24 kB)\n",
            "Requirement already satisfied: chardet<4,>=3.0.2 in /usr/local/lib/python3.7/dist-packages (from requests>=2.20.0->neptune-client) (3.0.4)\n",
            "Collecting urllib3\n",
            "  Downloading urllib3-1.25.11-py2.py3-none-any.whl (127 kB)\n",
            "\u001b[K     |████████████████████████████████| 127 kB 58.3 MB/s \n",
            "\u001b[?25hRequirement already satisfied: idna<3,>=2.5 in /usr/local/lib/python3.7/dist-packages (from requests>=2.20.0->neptune-client) (2.10)\n",
            "Requirement already satisfied: certifi>=2017.4.17 in /usr/local/lib/python3.7/dist-packages (from requests>=2.20.0->neptune-client) (2021.10.8)\n",
            "Collecting monotonic\n",
            "  Downloading monotonic-1.6-py2.py3-none-any.whl (8.2 kB)\n",
            "Requirement already satisfied: msgpack in /usr/local/lib/python3.7/dist-packages (from bravado->neptune-client) (1.0.3)\n",
            "Collecting simplejson\n",
            "  Downloading simplejson-3.17.6-cp37-cp37m-manylinux_2_5_x86_64.manylinux1_x86_64.manylinux_2_12_x86_64.manylinux2010_x86_64.whl (130 kB)\n",
            "\u001b[K     |████████████████████████████████| 130 kB 49.8 MB/s \n",
            "\u001b[?25hCollecting bravado-core>=5.16.1\n",
            "  Downloading bravado_core-5.17.0-py2.py3-none-any.whl (67 kB)\n",
            "\u001b[K     |████████████████████████████████| 67 kB 4.6 MB/s \n",
            "\u001b[?25hRequirement already satisfied: pyyaml in /usr/local/lib/python3.7/dist-packages (from bravado->neptune-client) (3.13)\n",
            "Requirement already satisfied: pytz in /usr/local/lib/python3.7/dist-packages (from bravado-core>=5.16.1->bravado->neptune-client) (2018.9)\n",
            "Collecting jsonref\n",
            "  Downloading jsonref-0.2-py3-none-any.whl (9.3 kB)\n",
            "Collecting swagger-spec-validator>=2.0.1\n",
            "  Downloading swagger_spec_validator-2.7.4-py2.py3-none-any.whl (27 kB)\n",
            "Collecting strict-rfc3339\n",
            "  Downloading strict-rfc3339-0.7.tar.gz (17 kB)\n",
            "Collecting rfc3987\n",
            "  Downloading rfc3987-1.3.8-py2.py3-none-any.whl (13 kB)\n",
            "Collecting webcolors\n",
            "  Downloading webcolors-1.11.1-py3-none-any.whl (9.9 kB)\n",
            "Requirement already satisfied: pyparsing!=3.0.5,>=2.0.2 in /usr/local/lib/python3.7/dist-packages (from packaging->neptune-client) (3.0.6)\n",
            "Requirement already satisfied: numpy>=1.15.4 in /usr/local/lib/python3.7/dist-packages (from pandas->neptune-client) (1.19.5)\n",
            "Building wheels for collected packages: neptune-client, future, strict-rfc3339\n",
            "  Building wheel for neptune-client (setup.py) ... \u001b[?25l\u001b[?25hdone\n",
            "  Created wheel for neptune-client: filename=neptune_client-0.13.3-py2.py3-none-any.whl size=481965 sha256=165f6913081839e7a59bea820f99bd562a750e16a6f50c93724e6d73434b2dff\n",
            "  Stored in directory: /root/.cache/pip/wheels/0f/57/12/8fae2c4d320108451ca55c0c1288b69721f496062ed438d63d\n",
            "  Building wheel for future (setup.py) ... \u001b[?25l\u001b[?25hdone\n",
            "  Created wheel for future: filename=future-0.18.2-py3-none-any.whl size=491070 sha256=8feb1e95832fa7c97d88a3281bca4af9b36def76a51a221cce847a3bd1e25af8\n",
            "  Stored in directory: /root/.cache/pip/wheels/56/b0/fe/4410d17b32f1f0c3cf54cdfb2bc04d7b4b8f4ae377e2229ba0\n",
            "  Building wheel for strict-rfc3339 (setup.py) ... \u001b[?25l\u001b[?25hdone\n",
            "  Created wheel for strict-rfc3339: filename=strict_rfc3339-0.7-py3-none-any.whl size=18149 sha256=556fc125453d141d6fe06684339e491c514e7609bf7fb4da7ac820eb8b4ec585\n",
            "  Stored in directory: /root/.cache/pip/wheels/f3/1d/9f/2a74caecb81b8beb9a4fbe1754203d4b7cf42ef5d39e0d2311\n",
            "Successfully built neptune-client future strict-rfc3339\n",
            "Installing collected packages: webcolors, urllib3, strict-rfc3339, rfc3987, jmespath, swagger-spec-validator, smmap, simplejson, jsonref, botocore, s3transfer, monotonic, gitdb, bravado-core, websocket-client, PyJWT, GitPython, future, bravado, boto3, neptune-client\n",
            "  Attempting uninstall: urllib3\n",
            "    Found existing installation: urllib3 1.24.3\n",
            "    Uninstalling urllib3-1.24.3:\n",
            "      Successfully uninstalled urllib3-1.24.3\n",
            "  Attempting uninstall: future\n",
            "    Found existing installation: future 0.16.0\n",
            "    Uninstalling future-0.16.0:\n",
            "      Successfully uninstalled future-0.16.0\n",
            "\u001b[31mERROR: pip's dependency resolver does not currently take into account all the packages that are installed. This behaviour is the source of the following dependency conflicts.\n",
            "datascience 0.10.6 requires folium==0.2.1, but you have folium 0.8.3 which is incompatible.\u001b[0m\n",
            "Successfully installed GitPython-3.1.24 PyJWT-2.3.0 boto3-1.20.20 botocore-1.23.20 bravado-11.0.3 bravado-core-5.17.0 future-0.18.2 gitdb-4.0.9 jmespath-0.10.0 jsonref-0.2 monotonic-1.6 neptune-client-0.13.3 rfc3987-1.3.8 s3transfer-0.5.0 simplejson-3.17.6 smmap-5.0.0 strict-rfc3339-0.7 swagger-spec-validator-2.7.4 urllib3-1.25.11 webcolors-1.11.1 websocket-client-1.2.1\n"
          ]
        }
      ]
    },
    {
      "cell_type": "code",
      "metadata": {
        "colab": {
          "base_uri": "https://localhost:8080/"
        },
        "id": "EaWR323RUzZA",
        "outputId": "a389fa60-bf7c-4d75-d079-388bc107da44"
      },
      "source": [
        "import neptune.new as neptune\n",
        "\n",
        "run = neptune.init(\n",
        "    project=\"heldervj/chess-nlp\",\n",
        "    api_token=\"eyJhcGlfYWRkcmVzcyI6Imh0dHBzOi8vYXBwLm5lcHR1bmUuYWkiLCJhcGlfdXJsIjoiaHR0cHM6Ly9hcHAubmVwdHVuZS5haSIsImFwaV9rZXkiOiI0OTI1MzNlYS0xNTY3LTQwZjctYjMxNC05ZDNmNGFkZTViMTEifQ==\",\n",
        ")  # your credentials"
      ],
      "execution_count": null,
      "outputs": [
        {
          "output_type": "stream",
          "name": "stderr",
          "text": [
            "Info (NVML): Driver Not Loaded. GPU usage metrics may not be reported. For more information, see https://docs-legacy.neptune.ai/logging-and-managing-experiment-results/logging-experiment-data.html#hardware-consumption \n"
          ]
        },
        {
          "output_type": "stream",
          "name": "stdout",
          "text": [
            "https://app.neptune.ai/heldervj/chess-nlp/e/CHES-30\n",
            "Remember to stop your run once you’ve finished logging your metadata (https://docs.neptune.ai/api-reference/run#stop). It will be stopped automatically only when the notebook kernel/interactive console is terminated.\n"
          ]
        }
      ]
    },
    {
      "cell_type": "code",
      "metadata": {
        "colab": {
          "base_uri": "https://localhost:8080/"
        },
        "id": "dLN-s2AnOJn6",
        "outputId": "e75cc0e4-b890-4e89-9b4d-47ceea5b35c4"
      },
      "source": [
        "from google.colab import drive\n",
        "drive.mount('/content/drive')"
      ],
      "execution_count": null,
      "outputs": [
        {
          "output_type": "stream",
          "name": "stdout",
          "text": [
            "Mounted at /content/drive\n"
          ]
        }
      ]
    },
    {
      "cell_type": "code",
      "metadata": {
        "id": "7l8IFv1pOUUd"
      },
      "source": [
        "# In order to reproduce the experiment, change this path to the file download from:\n",
        "# https://zenodo.org/record/5767528#.YbGYjvHMLDI\n",
        "\n",
        "file = open('drive/MyDrive/chess_dataset/chess_games.txt', 'rb')\n",
        "file = file.read()"
      ],
      "execution_count": null,
      "outputs": []
    },
    {
      "cell_type": "code",
      "metadata": {
        "colab": {
          "base_uri": "https://localhost:8080/"
        },
        "id": "vc8Pgx7MO51i",
        "outputId": "a664a3db-627a-406c-aabd-306ff9de4f66"
      },
      "source": [
        "print(file[:100])"
      ],
      "execution_count": null,
      "outputs": [
        {
          "output_type": "stream",
          "name": "stdout",
          "text": [
            "b'[Event \"12th Forchheim Open A 2013\"]\\r\\n[Site \"Forchheim GER\"]\\r\\n[Date \"31.12.29\"]\\r\\n[Round \"3.1\"]\\r\\n[Whi'\n"
          ]
        }
      ]
    },
    {
      "cell_type": "markdown",
      "metadata": {
        "id": "A4CdtR51UXbP"
      },
      "source": [
        "-------------------"
      ]
    },
    {
      "cell_type": "code",
      "metadata": {
        "id": "2MspC88xUSz0"
      },
      "source": [
        "import pandas as pd"
      ],
      "execution_count": null,
      "outputs": []
    },
    {
      "cell_type": "code",
      "metadata": {
        "id": "iz3kj7XuUZzy"
      },
      "source": [
        "df_info = pd.DataFrame(columns=[\n",
        "                                'id_partida',\n",
        "                                'WhiteElo',\n",
        "                                'BlackElo',\n",
        "                                'NbMoves',\n",
        "                                'EventType',\n",
        "                                'Result'])\n",
        "\n",
        "df_pgn = pd.DataFrame(columns=[\n",
        "                               'id_partida',\n",
        "                               'pgn'])"
      ],
      "execution_count": null,
      "outputs": []
    },
    {
      "cell_type": "code",
      "metadata": {
        "colab": {
          "base_uri": "https://localhost:8080/"
        },
        "id": "d1_QdI5Ne7Ew",
        "outputId": "f9b6b702-c186-4b3f-bf6d-2be1033af007"
      },
      "source": [
        "rows_to_process = 3_500_000_000\n",
        "\n",
        "len(file)"
      ],
      "execution_count": null,
      "outputs": [
        {
          "output_type": "execute_result",
          "data": {
            "text/plain": [
              "9226295224"
            ]
          },
          "metadata": {},
          "execution_count": 17
        }
      ]
    },
    {
      "cell_type": "code",
      "metadata": {
        "id": "gbLwHqW4VAuX"
      },
      "source": [
        "from tqdm import tqdm\n",
        "import gc\n",
        "\n",
        "id_partida = 0\n",
        "in_game_detail = False\n",
        "in_moves = False\n",
        "\n",
        "whiteElo = None\n",
        "blackElo = None\n",
        "nbMoves = 0\n",
        "eventType = None\n",
        "result = None\n",
        "\n",
        "game = b''\n",
        "\n",
        "counter = 1\n",
        "\n",
        "for line in tqdm(file[:rows_to_process].splitlines()[12297919:]):\n",
        "    if b'Event' in line:\n",
        "        in_game_detail = True\n",
        "    \n",
        "    if in_game_detail:\n",
        "        if b'WhiteElo' in line:\n",
        "            try:\n",
        "                whiteElo = line.split(b'\"')[1].decode()\n",
        "            except:\n",
        "                whiteElo = ''\n",
        "\n",
        "        elif b'BlackElo' in line:\n",
        "            try:\n",
        "                blackElo = line.split(b'\"')[1].decode()\n",
        "            except:\n",
        "                blackElo = ''\n",
        "\n",
        "        elif b'PlyCount' in line:\n",
        "            try:\n",
        "                nbMoves = line.split(b'\"')[1].decode()\n",
        "            except:\n",
        "                nbMoves = ''\n",
        "\n",
        "        elif b'EventType' in line:\n",
        "            try:\n",
        "                eventType = line.split(b'\"')[1].decode()\n",
        "            except:\n",
        "                eventType = ''\n",
        "\n",
        "        elif b'Result' in line:\n",
        "            try:\n",
        "                result = line.split(b'\"')[1].decode()\n",
        "            except:\n",
        "                result = ''\n",
        "\n",
        "        elif b'' == line:\n",
        "            in_game_detail = False\n",
        "            in_moves = True\n",
        "\n",
        "            df_info.loc[id_partida] = [id_partida,\n",
        "                                    whiteElo,\n",
        "                                    blackElo,\n",
        "                                    nbMoves,\n",
        "                                    eventType,\n",
        "                                    result]\n",
        "\n",
        "            whiteElo = None\n",
        "            blackElo = None\n",
        "            nbMoves = 0\n",
        "            eventType = None\n",
        "            result = None\n",
        "\n",
        "            \n",
        "\n",
        "\n",
        "    elif in_moves:\n",
        "        if b'' != line:\n",
        "            game = game + b' ' + line\n",
        "        else:\n",
        "            df_pgn.loc[id_partida] = [id_partida,\n",
        "                                      game]\n",
        "\n",
        "            id_partida += 1\n",
        "\n",
        "            run['preproc/parsing'].log(id_partida)\n",
        "\n",
        "            game = b''\n",
        "\n",
        "            in_moves = False\n",
        "\n",
        "            if id_partida % 6000 == 0:\n",
        "                df_info.to_csv(f'drive/MyDrive/chess_dataset/csv_files/info_{counter}.csv', index=False)\n",
        "                df_pgn.to_csv(f'drive/MyDrive/chess_dataset/csv_files/pgn_{counter}.csv', index=False)\n",
        "\n",
        "                df_info = df_info[0:0]\n",
        "                df_pgn = df_pgn[0:0]\n",
        "\n",
        "                gc.collect()\n",
        "\n",
        "                counter += 1\n",
        "    \n",
        "\n",
        "df_info.to_csv(f'drive/MyDrive/chess_dataset/csv_files/info_{counter}.csv', index=False)\n",
        "df_pgn.to_csv(f'drive/MyDrive/chess_dataset/csv_files/pgn_{counter}.csv', index=False)\n",
        "\n",
        "print(df_info.shape)\n",
        "print(df_pgn.shape)"
      ],
      "execution_count": null,
      "outputs": []
    },
    {
      "cell_type": "code",
      "metadata": {
        "colab": {
          "base_uri": "https://localhost:8080/"
        },
        "id": "cXZSTjEs1mv-",
        "outputId": "b3f193ca-56a5-4034-ad83-6180bcb6e97e"
      },
      "source": [
        "df_info.to_csv('drive/MyDrive/chess_dataset/info.csv', index=False)\n",
        "df_pgn.to_csv('drive/MyDrive/chess_dataset/pgn.csv', index=False)\n",
        "\n",
        "print(df_info.shape)\n",
        "print(df_pgn.shape)"
      ],
      "execution_count": null,
      "outputs": [
        {
          "output_type": "stream",
          "name": "stdout",
          "text": [
            "(358729, 6)\n",
            "(358728, 2)\n"
          ]
        }
      ]
    }
  ]
}